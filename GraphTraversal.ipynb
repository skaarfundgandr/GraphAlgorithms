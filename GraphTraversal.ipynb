{
 "cells": [
  {
   "cell_type": "markdown",
   "metadata": {},
   "source": [
    "# Graph Traversal"
   ]
  },
  {
   "cell_type": "markdown",
   "metadata": {},
   "source": [
    "### Depth-first Search"
   ]
  },
  {
   "cell_type": "markdown",
   "metadata": {},
   "source": [
    "**Depth-first search** (DFS) is a straightforward graph traversal technique. The algorithm begins at a starting node, and proceeds to all other nodes that are reachable from the starting node using the edges of the graph. Depth-first search always follows a single path in the graph as long as it finds new nodes. After this, it returns to previous nodes and begins to explore other parts of the graph. The algorithm keeps track of visited nodes, so that it processes each node only once."
   ]
  },
  {
   "cell_type": "markdown",
   "metadata": {},
   "source": [
    "#### Implementation"
   ]
  },
  {
   "cell_type": "markdown",
   "metadata": {},
   "source": [
    "Depth-first search can be conveniently implemented using recursion. The following function dfs begins a depth-first search at a given node. The function assumes that the graph is stored as an adjacency list."
   ]
  },
  {
   "cell_type": "markdown",
   "metadata": {},
   "source": [
    "![figure_7](images/figure_7.png)\n",
    "<figcaption>\n",
    "\n",
    "*Sample graph*\n",
    "\n",
    "</figcaption>"
   ]
  },
  {
   "cell_type": "code",
   "execution_count": 37,
   "metadata": {},
   "outputs": [],
   "source": [
    "# Initialize graph\n",
    "from Graph import Graph, Vertex # Import Graph and Vertex class\n",
    "# Instantiate graph object\n",
    "g = Graph()\n",
    "# Add vertices 1 to 5\n",
    "for i in range(1, 6):\n",
    "    g.add_vertex(Vertex(i))\n",
    "# Add edges\n",
    "g.add_edge(1, 2)\n",
    "g.add_edge(1, 4)\n",
    "g.add_edge(2, 1)\n",
    "g.add_edge(2, 3)\n",
    "g.add_edge(2, 5)\n",
    "g.add_edge(3, 2)\n",
    "g.add_edge(3, 5)\n",
    "g.add_edge(5, 2)\n",
    "g.add_edge(5, 3)"
   ]
  },
  {
   "cell_type": "code",
   "execution_count": 28,
   "metadata": {},
   "outputs": [],
   "source": [
    "# DFS Implementation\n",
    "def dfs(graph, start_key, visited=None) -> list[int]:\n",
    "    if visited is None:\n",
    "        visited = set()\n",
    "\n",
    "    vertex = graph.get_vertex(start_key)\n",
    "    if vertex is None:\n",
    "        return []\n",
    "    visited.add(vertex.key)\n",
    "\n",
    "    path = [vertex.key]\n",
    "\n",
    "    for neighbor in vertex.get_connections():\n",
    "        if neighbor.key not in visited:\n",
    "            path.extend(dfs(graph, neighbor.key, visited))\n",
    "\n",
    "    return path"
   ]
  },
  {
   "cell_type": "code",
   "execution_count": null,
   "metadata": {},
   "outputs": [],
   "source": [
    "# Usage\n",
    "dfs(g, 1)"
   ]
  },
  {
   "cell_type": "markdown",
   "metadata": {},
   "source": [
    "The time complexity of depth-first search is $O(n + m)$ where $n$ is the number of nodes and $m$ is the number of edges, because the algorithm processes each node and edge once."
   ]
  },
  {
   "cell_type": "markdown",
   "metadata": {},
   "source": [
    "### Breadth-first Search"
   ]
  },
  {
   "cell_type": "markdown",
   "metadata": {},
   "source": [
    "**Breadth-first search** (BFS) visits the nodes in increasing order of their distance from the starting node. Thus, we can calculate the distance from the starting node to all other nodes using breadth-first search."
   ]
  },
  {
   "cell_type": "markdown",
   "metadata": {},
   "source": [
    "#### Implementation"
   ]
  },
  {
   "cell_type": "markdown",
   "metadata": {},
   "source": [
    "Breadth-first search is more difficult to implement than depth-first search, because the algorithm visits nodes in different parts of the graph. A typical implementation is based on a queue that contains nodes. At each step, the next node in the queue will be processed."
   ]
  },
  {
   "cell_type": "markdown",
   "metadata": {},
   "source": [
    "![figure_8](images/figure_8.png)\n",
    "<figcaption>\n",
    "\n",
    "*Sample graph*\n",
    "\n",
    "</figcaption>"
   ]
  },
  {
   "cell_type": "code",
   "execution_count": 41,
   "metadata": {},
   "outputs": [],
   "source": [
    "# Initialize graph\n",
    "g = Graph()\n",
    "# Create vertices 1 to 6\n",
    "for i in range(1, 7):\n",
    "    g.add_vertex(Vertex(i))\n",
    "# Add edges\n",
    "g.add_edge(4, 1)\n",
    "g.add_edge(1, 2)\n",
    "g.add_edge(1, 4)\n",
    "g.add_edge(2, 1)\n",
    "g.add_edge(2, 3)\n",
    "g.add_edge(2, 5)\n",
    "g.add_edge(3, 2)\n",
    "g.add_edge(3, 6)\n",
    "g.add_edge(5, 2)\n",
    "g.add_edge(5, 6)\n",
    "g.add_edge(6, 5)\n",
    "g.add_edge(6, 3)"
   ]
  },
  {
   "cell_type": "code",
   "execution_count": 43,
   "metadata": {},
   "outputs": [],
   "source": [
    "# Implementation of BFS in Python\n",
    "from collections import deque\n",
    "\n",
    "def bfs(graph: Graph, start_key) -> list[any]:\n",
    "    if start_key not in graph:\n",
    "        return []\n",
    "\n",
    "    visited = set()\n",
    "    queue = deque([start_key])\n",
    "    path = []\n",
    "\n",
    "    while queue: # loop while queue is not empty\n",
    "        current_key = queue.popleft()\n",
    "\n",
    "        if current_key not in visited:\n",
    "            visited.add(current_key)\n",
    "            path.append(current_key)\n",
    "\n",
    "            current_vertex = graph.get_vertex(current_key)\n",
    "            for neighbor in current_vertex.get_connections():\n",
    "                if neighbor.key not in visited:\n",
    "                    queue.append(neighbor.key)\n",
    "\n",
    "    return path"
   ]
  },
  {
   "cell_type": "code",
   "execution_count": null,
   "metadata": {},
   "outputs": [],
   "source": [
    "# Usage\n",
    "bfs(g, 1)"
   ]
  },
  {
   "cell_type": "markdown",
   "metadata": {},
   "source": [
    "The time complexity of breadth-first search is $O(n+ m)$ where $n$ is the number of nodes and $m$ is the number of edges."
   ]
  }
 ],
 "metadata": {
  "kernelspec": {
   "display_name": ".venv",
   "language": "python",
   "name": "python3"
  },
  "language_info": {
   "codemirror_mode": {
    "name": "ipython",
    "version": 3
   },
   "file_extension": ".py",
   "mimetype": "text/x-python",
   "name": "python",
   "nbconvert_exporter": "python",
   "pygments_lexer": "ipython3",
   "version": "3.12.3"
  }
 },
 "nbformat": 4,
 "nbformat_minor": 2
}
