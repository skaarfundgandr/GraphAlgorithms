{
 "cells": [
  {
   "cell_type": "markdown",
   "metadata": {},
   "source": [
    "# Tree Data Structure"
   ]
  },
  {
   "cell_type": "markdown",
   "metadata": {},
   "source": [
    "The tree data structure is a dynamic data structure whose operations take time proportional to the height of the tree. This data structure supports each of these operations: $\\large SEARCH$, $\\large MINIMUM$, $\\large MAXIMUM$, $\\large PREDECESSOR$, $\\large SUCCESSOR$, $\\large INSERT$, and $\\large DELETE$. For a complete binary tree with $n$ nodes, such operations take $\\Theta(\\log n)$ time. Thus, you can use a tree both as a **dictionary** and a **priority queue**."
   ]
  },
  {
   "cell_type": "markdown",
   "metadata": {},
   "source": [
    "### Binary Search Tree"
   ]
  },
  {
   "cell_type": "markdown",
   "metadata": {},
   "source": [
    "A binary search tree is organized in a binary tree. You can represent such a tree with a linked data structure. In addition to a $key$ and satellite data, each node object contains attribute $left$, $right$, and $p$ that point to the nodes corresponding to its left child, right child, and its parent. If a child or parent is missing, the appropriate attribute contains the value $NULL$. The tree itself contains the attribute $root$ that points to the root node, or $NULL$ if the tree is empty. The root node $T.root$ is the only node in the tree whose parent is $NULL$."
   ]
  },
  {
   "cell_type": "markdown",
   "metadata": {},
   "source": [
    "![Figure 1](images/figure_1.png) ![Figure 2](images/figure_2.png)"
   ]
  },
  {
   "cell_type": "code",
   "execution_count": 1,
   "metadata": {},
   "outputs": [],
   "source": [
    "# Implementation of a node of a binary tree in Python\n",
    "class Node:\n",
    "    # Constructor\n",
    "    def __init__(self, key, data: any = None):\n",
    "        self.parent = None\n",
    "        self.leftChild = None\n",
    "        self.rightChild = None\n",
    "        self.data = data\n",
    "        self.key = key\n",
    "# Tree implementation in Python\n",
    "class Tree:\n",
    "    def __init__(self):\n",
    "        self.root = None"
   ]
  },
  {
   "cell_type": "markdown",
   "metadata": {},
   "source": [
    "The keys in a binary search tree are stored in a way to satisfy the **binary search tree property**:\n",
    "\n",
    ">Let $x$ be a node in a binary search tree. If $y$ is a node in the left subtree of $x$, then $y.key \\leq x.key$. If $y$ is a node in the right subtree of $x$, then $y.key \\geq x.key$.\n",
    "\n",
    "Because of the binary search tree property, you can print out all the keys in a binary search tree in sorted order by a simple recursive algorithm called an **inorder tree walk**, given by the procedure $\\normalsize INORDER-TREE-WALK$. This algorithm prints the key of the root of a subtree between printing the values of the left subtree and printing those in its right subtree. To print out all the elements in a binary search tree $T$, call $\\normalsize INORDER-TREE-WALK(T.root)$."
   ]
  },
  {
   "cell_type": "code",
   "execution_count": null,
   "metadata": {},
   "outputs": [],
   "source": [
    "# In order walk implementation in Python\n",
    "def inorderWalk(x: Node) -> None:\n",
    "    if x is not None:\n",
    "        inorderWalk(x.leftChild)\n",
    "        print(x.key, end=\" \")\n",
    "        inorderWalk(x.rightChild)\n",
    "\n",
    "root: Node = Node(5) # Initialize a root node whose key is 5\n",
    "root.leftChild = Node(4) # Insert a node on left of root whose key is 4\n",
    "root.rightChild = Node(6) # Insert a node on right of root whose key is 6\n",
    "\n",
    "inorderWalk(root) # In Order tree walk from root"
   ]
  },
  {
   "cell_type": "markdown",
   "metadata": {},
   "source": [
    "It takes $\\Theta(n)$ time to walk an $n$-node binary search tree, since after the initial call, the procedure calls itself recursively exactly twice for each node in the tree. Once for its left child and once for its right child."
   ]
  },
  {
   "cell_type": "markdown",
   "metadata": {},
   "source": [
    "#### Querying a binary search tree"
   ]
  },
  {
   "cell_type": "markdown",
   "metadata": {},
   "source": [
    "Binary search trees can support the queries $\\large MINIMUM$, $\\large MAXIMUM$, $\\large SUCCESSOR$, and $\\large PREDECESSOR$, as well as $\\large SEARCH$. This section examines these operations and shows how to support each one\n",
    "in $O(h)$ time on any binary search tree of height $h$."
   ]
  },
  {
   "cell_type": "markdown",
   "metadata": {},
   "source": [
    "##### **Searching**"
   ]
  },
  {
   "cell_type": "markdown",
   "metadata": {},
   "source": []
  }
 ],
 "metadata": {
  "kernelspec": {
   "display_name": ".venv",
   "language": "python",
   "name": "python3"
  },
  "language_info": {
   "codemirror_mode": {
    "name": "ipython",
    "version": 3
   },
   "file_extension": ".py",
   "mimetype": "text/x-python",
   "name": "python",
   "nbconvert_exporter": "python",
   "pygments_lexer": "ipython3",
   "version": "3.12.3"
  }
 },
 "nbformat": 4,
 "nbformat_minor": 2
}
