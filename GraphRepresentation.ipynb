{
 "cells": [
  {
   "cell_type": "markdown",
   "metadata": {},
   "source": [
    "# Graph Representation"
   ]
  },
  {
   "cell_type": "markdown",
   "metadata": {},
   "source": [
    "You can choose between two standard ways to represent a graph $G = (V, E)$: as a collection of **adjacency lists** or as an **adjacency matrix**. Either way applies to both directed and undirected graphs. Because the adjacency-list representation provides a compact way to represent **sparse** graphs(those for which $|E|$ is much less than $|V|^2$) it is usually the method of choice. You might prefer an adjacency-matrix representation, however, when the graph is **dense**($|E|$ is close to $|V|^2$) or when you need to be able to tell quickly whether there is an edge connecting two given vertices."
   ]
  },
  {
   "cell_type": "markdown",
   "metadata": {},
   "source": [
    "![figure_4](images/figure_4.png)\n",
    "<figcaption>\n",
    "\n",
    "*Sample Graph*\n",
    "\n",
    "</figcaption>\n",
    "\n",
    "![figure_5](images/figure_5.png)\n",
    "<figcaption>\n",
    "\n",
    "*Adjacency list representation of the graph*\n",
    "\n",
    "</figcaption>\n",
    "\n",
    "![figure_6](images/figure_6.png)\n",
    "<figcaption>\n",
    "\n",
    "*Adjacency matrix representation of the graph*\n",
    "\n",
    "</figcaption>"
   ]
  },
  {
   "cell_type": "code",
   "execution_count": 3,
   "metadata": {},
   "outputs": [],
   "source": [
    "# Object-Oriented implementation of a Vertex in Python\n",
    "class Vertex:\n",
    "    def __init__(self, key):\n",
    "        self.key = key\n",
    "        self.neighbours = {} # Dictionary that keeps track of the list of neighbors\n",
    "\n",
    "    def add_neighbor(self, neighbor, weight=0):\n",
    "        self.neighbours[neighbor] = weight\n",
    "\n",
    "    def get_connections(self) -> list[any]:\n",
    "        return self.neighbours.keys()\n",
    "\n",
    "    def get_weight(self, neighbor) -> int:\n",
    "        return self.neighbours[neighbor] # Returns the weight (value) of the neighbor"
   ]
  },
  {
   "cell_type": "code",
   "execution_count": 12,
   "metadata": {},
   "outputs": [],
   "source": [
    "# Object-Oriented implementation of a Graph in Python using an Adjacency List\n",
    "# This implementation uses a dictionary to keep track of the vertices in the graph\n",
    "class Graph:\n",
    "    def __init__(self):\n",
    "        self.vertices = {}\n",
    "\n",
    "    def add_vertex(self, vertex):\n",
    "        self.vertices[vertex.key] = vertex\n",
    "\n",
    "    def get_vertex(self, key) -> Vertex:\n",
    "        try:\n",
    "            return self.vertices[key]\n",
    "        except KeyError:\n",
    "            return None\n",
    "\n",
    "    def add_edge(self, from_key, to_key, weight=0):\n",
    "        if from_key not in self.vertices:\n",
    "            self.add_vertex(Vertex(from_key))\n",
    "\n",
    "        if to_key not in self.vertices:\n",
    "            self.add_vertex(Vertex(to_key))\n",
    "\n",
    "        self.vertices[from_key].add_neighbor(self.vertices[to_key], weight)\n",
    "\n",
    "    def get_vertices(self) -> list[any]:\n",
    "        return self.vertices.keys()\n",
    "\n",
    "    # Magic Methods\n",
    "    def __contains__(self, key): # For use with the 'in' operator e.g. if x in y\n",
    "        return key in self.vertices\n",
    "\n",
    "    def __iter__(self): # Returns an iterator for looping which contains vertices in the graph\n",
    "        return iter(self.vertices.values())"
   ]
  },
  {
   "cell_type": "code",
   "execution_count": null,
   "metadata": {},
   "outputs": [],
   "source": [
    "# Usage\n",
    "g = Graph() # Instantiate Graph object\n",
    "\n",
    "# Creates vertex 1 to 5\n",
    "for i in range(1, 6):\n",
    "    g.add_vertex(Vertex(i))\n",
    "\n",
    "# Verify that each vertex is added\n",
    "g.vertices\n",
    "\n",
    "g.add_edge(1, 2)\n",
    "g.add_edge(1, 5)\n",
    "g.add_edge(2, 1)\n",
    "g.add_edge(2, 5)\n",
    "g.add_edge(2, 3)\n",
    "g.add_edge(2, 4)\n",
    "g.add_edge(4, 3)\n",
    "g.add_edge(4, 5)\n",
    "g.add_edge(4, 2)\n",
    "g.add_edge(5, 4)\n",
    "g.add_edge(5, 1)\n",
    "g.add_edge(5, 2)\n",
    "g.add_edge(3, 2)\n",
    "g.add_edge(3, 4)\n",
    "\n",
    "# Display every vertex and its connections\n",
    "for vert in g:\n",
    "    for conn in vert.get_connections():\n",
    "        print(f\"{vert.key} -> {conn.key}\")"
   ]
  }
 ],
 "metadata": {
  "kernelspec": {
   "display_name": ".venv",
   "language": "python",
   "name": "python3"
  },
  "language_info": {
   "codemirror_mode": {
    "name": "ipython",
    "version": 3
   },
   "file_extension": ".py",
   "mimetype": "text/x-python",
   "name": "python",
   "nbconvert_exporter": "python",
   "pygments_lexer": "ipython3",
   "version": "3.12.3"
  }
 },
 "nbformat": 4,
 "nbformat_minor": 2
}
