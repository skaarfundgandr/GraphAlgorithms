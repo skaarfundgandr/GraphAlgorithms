{
 "cells": [
  {
   "cell_type": "markdown",
   "metadata": {},
   "source": [
    "# Shortest Path Algorithms"
   ]
  },
  {
   "cell_type": "markdown",
   "metadata": {},
   "source": [
    "Finding a shortest path between two nodes of a graph is an important problem that has many practical applications. For example, a natural problem related to a road network is to calculate the shortest possible length of a route between two cities, given the lengths of the roads. In an unweighted graph, the length of a path equals the number of its edges, and we can simply use breadth-first search to find a shortest path. However, in this notebook we focus on weighted graphs where more sophisticated algorithms are needed for finding shortest paths."
   ]
  },
  {
   "cell_type": "markdown",
   "metadata": {},
   "source": [
    "### Bellman-Ford Algorithm"
   ]
  },
  {
   "cell_type": "markdown",
   "metadata": {},
   "source": [
    "The **Bellman–Ford algorithm** finds shortest paths from a starting node to all nodes of the graph. The algorithm can process all kinds of graphs, provided that the graph does not contain a cycle with negative length. If the graph contains a negative cycle, the algorithm can detect this. The algorithm keeps track of distances from the starting node to all nodes of the graph. Initially, the distance to the starting node is 0 and the distance to all other nodes infinite. The algorithm reduces the distances by finding edges that shorten the paths until it is not possible to reduce any distance."
   ]
  },
  {
   "cell_type": "markdown",
   "metadata": {},
   "source": [
    "#### Implementation"
   ]
  },
  {
   "cell_type": "markdown",
   "metadata": {},
   "source": [
    "![figure_9](images/figure_9.png)\n",
    "<figcaption>\n",
    "\n",
    "*Sample Graph*\n",
    "\n",
    "</figcaption>"
   ]
  },
  {
   "cell_type": "markdown",
   "metadata": {},
   "source": [
    "### Dijkstra's Algorithm"
   ]
  },
  {
   "cell_type": "markdown",
   "metadata": {},
   "source": [
    "**Dijkstra’s algorithm** finds shortest paths from the starting node to all nodes of the graph, like the Bellman–Ford algorithm. The benefit of Dijsktra’s algorithm is that it is more efficient and can be used for processing large graphs. However, the algorithm requires that there are no negative weight edges in the graph. Like the Bellman–Ford algorithm, Dijkstra’s algorithm maintains distances to the nodes and reduces them during the search. Dijkstra’s algorithm is efficient, because it only processes each edge in the graph once, using the fact that there are no negative edges."
   ]
  },
  {
   "cell_type": "markdown",
   "metadata": {},
   "source": [
    "#### Implementation"
   ]
  },
  {
   "cell_type": "markdown",
   "metadata": {},
   "source": [
    "![figure_10](images/figure_10.png)\n",
    "\n",
    "<figcaption>\n",
    "\n",
    "*Sample Graph*\n",
    "\n",
    "</figcaption>"
   ]
  },
  {
   "cell_type": "code",
   "execution_count": 1,
   "metadata": {},
   "outputs": [],
   "source": [
    "# Initialize Graph\n",
    "from Graph import Graph, Vertex\n",
    "\n",
    "g = Graph()\n",
    "\n",
    "for i in range(1, 6):\n",
    "    g.add_vertex(Vertex(i))\n",
    "\n",
    "g.add_edge(1, 5, 1)\n",
    "g.add_edge(1, 4, 9)\n",
    "g.add_edge(1, 2, 5)\n",
    "g.add_edge(2, 1, 5)\n",
    "g.add_edge(2, 3, 2)\n",
    "g.add_edge(3, 2, 2)\n",
    "g.add_edge(3, 4, 6)\n",
    "g.add_edge(4, 1, 9)\n",
    "g.add_edge(4, 3, 6)\n",
    "g.add_edge(4, 5, 2)\n",
    "g.add_edge(5, 1, 1)\n",
    "g.add_edge(5, 4, 2)"
   ]
  },
  {
   "cell_type": "code",
   "execution_count": 2,
   "metadata": {},
   "outputs": [],
   "source": [
    "# Implementation of Dijkstra's Algorithm in Python\n",
    "import heapq\n",
    "\n",
    "def dijkstra(graph, start_key):\n",
    "    priority_queue = []\n",
    "    heapq.heappush(priority_queue, (0, start_key))\n",
    "\n",
    "    shortest_distances = {key: float('inf') for key in graph.get_vertices()}\n",
    "    shortest_distances[start_key] = 0\n",
    "\n",
    "    while priority_queue:\n",
    "        current_distance, current_key = heapq.heappop(priority_queue)\n",
    "        current_vertex = graph.get_vertex(current_key)\n",
    "\n",
    "        for neighbor in current_vertex.get_connections():\n",
    "            distance = current_distance + current_vertex.get_weight(neighbor)\n",
    "\n",
    "            if distance < shortest_distances[neighbor.key]:\n",
    "                shortest_distances[neighbor.key] = distance\n",
    "                heapq.heappush(priority_queue, (distance, neighbor.key))\n",
    "\n",
    "    return shortest_distances"
   ]
  },
  {
   "cell_type": "code",
   "execution_count": null,
   "metadata": {},
   "outputs": [],
   "source": [
    "# Usage\n",
    "dijkstra(g, 1)"
   ]
  },
  {
   "cell_type": "markdown",
   "metadata": {},
   "source": [
    "The time complexity of the above implementation is $O(n + m \\log m)$, because the algorithm goes through all nodes of the graph and adds for each edge at most one distance to the priority queue."
   ]
  }
 ],
 "metadata": {
  "kernelspec": {
   "display_name": ".venv",
   "language": "python",
   "name": "python3"
  },
  "language_info": {
   "codemirror_mode": {
    "name": "ipython",
    "version": 3
   },
   "file_extension": ".py",
   "mimetype": "text/x-python",
   "name": "python",
   "nbconvert_exporter": "python",
   "pygments_lexer": "ipython3",
   "version": "3.12.3"
  }
 },
 "nbformat": 4,
 "nbformat_minor": 2
}
